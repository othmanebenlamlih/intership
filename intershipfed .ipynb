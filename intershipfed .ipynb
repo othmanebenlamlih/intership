{
  "nbformat": 4,
  "nbformat_minor": 0,
  "metadata": {
    "colab": {
      "name": "intershipfed.ipynb",
      "private_outputs": true,
      "provenance": [],
      "collapsed_sections": [
        "jlldGO4HgF3E"
      ],
      "toc_visible": true
    },
    "kernelspec": {
      "name": "python3",
      "display_name": "Python 3"
    },
    "accelerator": "GPU"
  },
  "cells": [
    {
      "cell_type": "markdown",
      "metadata": {
        "id": "jlldGO4HgF3E"
      },
      "source": [
        "# Pneumonia"
      ]
    },
    {
      "cell_type": "markdown",
      "metadata": {
        "id": "eCvmMxmJiF47"
      },
      "source": [
        "\n",
        "\n",
        "---\n",
        "\n",
        "\n",
        "> ***Pneumonia*** is a lung infection that causes inflammation and damage to lung tissue.In a healthy person, the alveoli fill with air during breathing; however, in people with pneumonia, the alveoli are already filled with pus and fluid that affects gas exchange.\n",
        "\n",
        "\n",
        "---\n",
        "\n",
        "\n",
        "\n"
      ]
    },
    {
      "cell_type": "code",
      "metadata": {
        "id": "uSZsq9UBalbs"
      },
      "source": [
        "from IPython.display import Image \n",
        "Image(url=\"https://www.clinicbarcelona.org/uploads/media/default/0001/09/028fd0195b02b208a3118ea9797c3b2e37ed148f.png\")"
      ],
      "execution_count": null,
      "outputs": []
    },
    {
      "cell_type": "markdown",
      "metadata": {
        "id": "eFFDQUzFinEk"
      },
      "source": [
        "# What is Pneumonia?"
      ]
    },
    {
      "cell_type": "markdown",
      "metadata": {
        "id": "dgzwIN5qn8x3"
      },
      "source": [
        "\n",
        "\n",
        "---\n",
        "\n",
        "\n",
        "***Pneumonia*** is an inflammatory condition of the lung affecting primarily the small air sacs known as alveoli.Symptoms typically include some combination of productive or dry cough, chest pain, fever and difficulty breathing. The severity of the condition is variable. ***Pneumonia*** is usually caused by infection with viruses or bacteria and less commonly by other microorganisms, certain medications or conditions such as autoimmune diseases.Risk factors include cystic fibrosis, chronic obstructive pulmonary disease (COPD), asthma, diabetes, heart failure, a history of smoking, a poor ability to cough such as following a stroke and a weak immune system. Diagnosis is often based on symptoms and physical examination.\n",
        "Chest X-ray, blood tests, and culture of the sputum may help confirm the diagnosis.The disease may be classified by where it was acquired, such as community- or hospital-acquired or healthcare-associated pneumonia.\n",
        "\n",
        "\n",
        "---\n",
        "\n",
        "\n"
      ]
    },
    {
      "cell_type": "markdown",
      "metadata": {
        "id": "mvHugGVMoG0l"
      },
      "source": [
        "# package"
      ]
    },
    {
      "cell_type": "code",
      "metadata": {
        "id": "jUzvYI53oQJT"
      },
      "source": [
        "import matplotlib.pyplot as plt\n",
        "import seaborn as sns\n",
        "import keras\n",
        "from keras.models import Sequential\n",
        "from keras.layers import Dense, Conv2D , MaxPool2D , Flatten , Dropout , BatchNormalization\n",
        "from keras.layers import Dense, GlobalAveragePooling2D\n",
        "from keras.layers import GlobalMaxPooling2D\n",
        "from keras.preprocessing.image import ImageDataGenerator\n",
        "from sklearn.model_selection import train_test_split\n",
        "from sklearn.metrics import classification_report,confusion_matrix\n",
        "from keras.callbacks import ReduceLROnPlateau\n",
        "import cv2\n",
        "import os\n",
        "import numpy as np # linear algebra\n",
        "import pandas as pd \n",
        "from keras.models import Model"
      ],
      "execution_count": null,
      "outputs": []
    },
    {
      "cell_type": "markdown",
      "metadata": {
        "id": "6SrHCf7goQhO"
      },
      "source": [
        "# Description of the Pneumonia Dataset"
      ]
    },
    {
      "cell_type": "markdown",
      "metadata": {
        "id": "48rgp2zfqnBk"
      },
      "source": [
        "\n",
        "\n",
        "---\n",
        "\n",
        "\n",
        "The dataset is organized into 3 folders (train, test, val) and contains subfolders for each image category (Pneumonia/Normal). There are 5,863 X-Ray images (JPEG) and 2 categories (Pneumonia/Normal). Chest X-ray images (anterior-posterior) were selected from retrospective cohorts of pediatric patients of one to five years old from Guangzhou Women and Children’s Medical Center, Guangzhou. All chest X-ray imaging was performed as part of patients’ routine clinical care. For the analysis of chest x-ray images, all chest radiographs were initially screened for quality control by removing all low quality or unreadable scans. The diagnoses for the images were then graded by two expert physicians before being cleared for training the AI system. In order to account for any grading errors, the evaluation set was also checked by a third expert.\n",
        "\n",
        "\n",
        "---\n",
        "\n"
      ]
    },
    {
      "cell_type": "code",
      "metadata": {
        "id": "fCWIiU4ti8-0"
      },
      "source": [
        "! pip install -q kaggle"
      ],
      "execution_count": null,
      "outputs": []
    },
    {
      "cell_type": "code",
      "metadata": {
        "id": "BXAwwUFWi_OM"
      },
      "source": [
        "from google.colab import files"
      ],
      "execution_count": null,
      "outputs": []
    },
    {
      "cell_type": "code",
      "metadata": {
        "id": "q6cjtpEljBNC"
      },
      "source": [
        "#on adapte notre json file de notre kaggle profile\n",
        "files.upload()"
      ],
      "execution_count": null,
      "outputs": []
    },
    {
      "cell_type": "code",
      "metadata": {
        "id": "jXPY9mbPju1L"
      },
      "source": [
        "!mkdir -p ~/.kaggle"
      ],
      "execution_count": null,
      "outputs": []
    },
    {
      "cell_type": "code",
      "metadata": {
        "id": "Xx3IE7PCjyEb"
      },
      "source": [
        "!cp kaggle.json ~/.kaggle/"
      ],
      "execution_count": null,
      "outputs": []
    },
    {
      "cell_type": "code",
      "metadata": {
        "id": "Ftt85PoUjz90"
      },
      "source": [
        "!ls ~/.kaggle"
      ],
      "execution_count": null,
      "outputs": []
    },
    {
      "cell_type": "code",
      "metadata": {
        "id": "5X2oWsnHj2d2"
      },
      "source": [
        "!chmod 600 /root/.kaggle/kaggle.json"
      ],
      "execution_count": null,
      "outputs": []
    },
    {
      "cell_type": "code",
      "metadata": {
        "id": "gZVmsRqDj5Hl"
      },
      "source": [
        "#kaggle data\n",
        "!kaggle datasets download  \"paultimothymooney/chest-xray-pneumonia\""
      ],
      "execution_count": null,
      "outputs": []
    },
    {
      "cell_type": "code",
      "metadata": {
        "id": "u9gG9-6pj89U"
      },
      "source": [
        "#le fichier est zip , on va unsiper le fichier pour acceder anotre data\n",
        "!unzip chest-xray-pneumonia.zip"
      ],
      "execution_count": null,
      "outputs": []
    },
    {
      "cell_type": "markdown",
      "metadata": {
        "id": "rYnYNw8xuhju"
      },
      "source": [
        "## Loading the Dataset"
      ]
    },
    {
      "cell_type": "code",
      "metadata": {
        "id": "-671x5EIomUN"
      },
      "source": [
        "train_dir = \"/content/chest_xray/chest_xray/train\"\n",
        "test_dir = \"/content/chest_xray/chest_xray/test\"\n",
        "val_dir = \"/content/chest_xray/chest_xray/val\"\n",
        "\n",
        "print(\"Train set:\\n========================================\")\n",
        "num_pneumonia = len(os.listdir(os.path.join(train_dir, 'PNEUMONIA')))\n",
        "num_normal = len(os.listdir(os.path.join(train_dir, 'NORMAL')))\n",
        "print(f\"PNEUMONIA={num_pneumonia}\")\n",
        "print(f\"NORMAL={num_normal}\")\n",
        "\n",
        "print(\"Test set:\\n========================================\")\n",
        "print(f\"PNEUMONIA={len(os.listdir(os.path.join(test_dir, 'PNEUMONIA')))}\")\n",
        "print(f\"NORMAL={len(os.listdir(os.path.join(test_dir, 'NORMAL')))}\")\n",
        "\n",
        "print(\"Validation set:\\n========================================\")\n",
        "print(f\"PNEUMONIA={len(os.listdir(os.path.join(val_dir, 'PNEUMONIA')))}\")\n",
        "print(f\"NORMAL={len(os.listdir(os.path.join(val_dir, 'NORMAL')))}\")\n",
        "\n"
      ],
      "execution_count": null,
      "outputs": []
    },
    {
      "cell_type": "markdown",
      "metadata": {
        "id": "vZhGIkUuvdp1"
      },
      "source": [
        "## Data Visualization & Preprocessing"
      ]
    },
    {
      "cell_type": "code",
      "metadata": {
        "id": "j05Ha7s38LKY"
      },
      "source": [
        "pneumonia = os.listdir(\"/content/chest_xray/train/PNEUMONIA\")\n",
        "pneumonia_dir = \"/content/chest_xray/train/PNEUMONIA\"\n",
        "\n",
        "plt.figure(figsize=(20, 10))\n",
        "\n",
        "for i in range(9):\n",
        "    plt.subplot(3, 3, i + 1)\n",
        "    img = plt.imread(os.path.join(pneumonia_dir, pneumonia[i]))\n",
        "    plt.imshow(img, cmap='gray')\n",
        "    plt.axis('off')\n",
        "    \n",
        "plt.tight_layout()"
      ],
      "execution_count": null,
      "outputs": []
    },
    {
      "cell_type": "markdown",
      "metadata": {
        "id": "-bPEbguaX9ql"
      },
      "source": [
        "***normal cas***"
      ]
    },
    {
      "cell_type": "code",
      "metadata": {
        "id": "EYSmNMc8X2JK"
      },
      "source": [
        "path = \"/content/chest_xray/chest_xray/train/NORMAL\"\n",
        "#listdir =retourne une liste contenant les noms des entrées dans le répertoire donné par chemin\n",
        "data_exemple = os.listdir(path)\n",
        "plt.figure(figsize=(15, 10))\n",
        "\n",
        "for i in range(12):\n",
        "    plt.subplot(4, 4, i + 1)\n",
        "    #imread =charge une image à partir du fichier spécifié\n",
        "    img = plt.imread(os.path.join(path, data_exemple[i]))\n",
        "    #imshow = affiche l'imagerie \n",
        "    plt.imshow(img, cmap='gray')\n",
        "    plt.axis('off')\n",
        "    \n",
        "plt.tight_layout()"
      ],
      "execution_count": null,
      "outputs": []
    },
    {
      "cell_type": "markdown",
      "metadata": {
        "id": "Fgd241ANYBpi"
      },
      "source": [
        "***cas pneumonia***"
      ]
    },
    {
      "cell_type": "code",
      "metadata": {
        "id": "1IEtnijcYCza"
      },
      "source": [
        "path = \"/content/chest_xray/chest_xray/train/PNEUMONIA\"\n",
        "#listdir =retourne une liste contenant les noms des entrées dans le répertoire donné par chemin\n",
        "data_exemple = os.listdir(path)\n",
        "plt.figure(figsize=(15, 10))\n",
        "\n",
        "for i in range(12):\n",
        "    plt.subplot(4, 4, i + 1)\n",
        "    #imread =charge une image à partir du fichier spécifié\n",
        "    img = plt.imread(os.path.join(path, data_exemple[i]))\n",
        "    plt.imshow(img, cmap='gray')\n",
        "    plt.axis('off')\n",
        "    \n",
        "plt.tight_layout()"
      ],
      "execution_count": null,
      "outputs": []
    },
    {
      "cell_type": "markdown",
      "metadata": {
        "id": "mehTluhO9cIq"
      },
      "source": [
        "## pixel value distribution"
      ]
    },
    {
      "cell_type": "code",
      "metadata": {
        "id": "ch45yahj9dSn"
      },
      "source": [
        "normal_img = os.listdir(\"/content/chest_xray/chest_xray/train/PNEUMONIA\")[58]\n",
        "normal_dir = \"/content/chest_xray/chest_xray/train/PNEUMONIA\"\n",
        "sample_img = plt.imread(os.path.join(normal_dir, normal_img))\n",
        "sns.distplot(sample_img.ravel(),\n",
        "            label=f\"Pixel Mean {np.mean(sample_img):.4f} & Standard Deviation {np.std(sample_img):.4f}\", kde=False)\n",
        "plt.legend(loc='upper center')\n",
        "plt.title('Distribution of Pixel Intensities in the Image')\n",
        "plt.xlabel('Pixel Intensity')\n",
        "plt.ylabel('# Pixels in Image')"
      ],
      "execution_count": null,
      "outputs": []
    },
    {
      "cell_type": "markdown",
      "metadata": {
        "id": "X-YSxIZX0nPV"
      },
      "source": [
        "# ***Deep Learning in Healthcare*** — X-Ray Imaging"
      ]
    },
    {
      "cell_type": "markdown",
      "metadata": {
        "id": "QBi_qEbr97Iy"
      },
      "source": [
        "## Image Preprocessing"
      ]
    },
    {
      "cell_type": "markdown",
      "metadata": {
        "id": "lfEo_lzT-ApI"
      },
      "source": [
        "Before training, you'll first modify your images to be better suited for training a convolutional neural network. For this task you'll use the Keras ImageDataGenerator function to perform data preprocessing and data augmentation.\n",
        "\n",
        "\n",
        "*   This class also provides support for basic data augmentation such as random horizontal flipping of images.\n",
        "*   We also use the generator to transform the values in each batch so that their mean is 0 and their standard deviation is 1 (this will faciliate model training by standardizing the input distribution).\n",
        "*   The generator also converts our single channel X-ray images (gray-scale) to a three-channel format by repeating the values in the image across all channels (we will want this because the pre-trained model that we'll use requires three-channel inputs).\n",
        "\n"
      ]
    },
    {
      "cell_type": "code",
      "metadata": {
        "id": "HobFLZbF98Ln"
      },
      "source": [
        "from keras.preprocessing.image import ImageDataGenerator\n",
        "\n",
        "image_generator = ImageDataGenerator(\n",
        "    rotation_range=20,\n",
        "    width_shift_range=0.1,\n",
        "    shear_range=0.1,\n",
        "    zoom_range=0.1,\n",
        "    samplewise_center=True,\n",
        "    samplewise_std_normalization=True\n",
        ")"
      ],
      "execution_count": null,
      "outputs": []
    },
    {
      "cell_type": "markdown",
      "metadata": {
        "id": "TEKwZzO6-6gU"
      },
      "source": [
        "Now we need to build a new generator for validation and t esting data."
      ]
    },
    {
      "cell_type": "code",
      "metadata": {
        "id": "SEcsxu_i-8Mv"
      },
      "source": [
        "train = image_generator.flow_from_directory(train_dir, \n",
        "                                            shuffle=True, \n",
        "                                            class_mode='binary',\n",
        "                                            target_size=(320, 320))\n",
        "\n",
        "validation = image_generator.flow_from_directory(val_dir, \n",
        "                                                batch_size=1, \n",
        "                                                shuffle=False, \n",
        "                                                class_mode='binary',\n",
        "                                                target_size=(320, 320))\n",
        "\n",
        "test = image_generator.flow_from_directory(test_dir, \n",
        "                                            batch_size=1, \n",
        "                                            shuffle=False, \n",
        "                                            class_mode='binary',\n",
        "                                            target_size=(320, 320))"
      ],
      "execution_count": null,
      "outputs": []
    },
    {
      "cell_type": "markdown",
      "metadata": {
        "id": "ijZ1TXsL_Wrv"
      },
      "source": [
        "## Model Building"
      ]
    },
    {
      "cell_type": "markdown",
      "metadata": {
        "id": "GQhrMfQ5_lap"
      },
      "source": [
        "**Class weights**"
      ]
    },
    {
      "cell_type": "code",
      "metadata": {
        "id": "MMDuWsSw_dQn"
      },
      "source": [
        "weight_for_0 = num_pneumonia / (num_normal + num_pneumonia)\n",
        "weight_for_1 = num_normal / (num_normal + num_pneumonia)\n",
        "\n",
        "class_weight = {0: weight_for_0, 1: weight_for_1}\n",
        "\n",
        "print(f\"Weight for class 0: {weight_for_0:.2f}\")\n",
        "print(f\"Weight for class 1: {weight_for_1:.2f}\")"
      ],
      "execution_count": null,
      "outputs": []
    },
    {
      "cell_type": "code",
      "metadata": {
        "id": "disZmP0J_qZA"
      },
      "source": [
        "from keras.models import Sequential\n",
        "from keras.layers import Dense, Conv2D, MaxPool2D, Dropout, Flatten, BatchNormalization\n",
        "\n",
        "\n",
        "model = Sequential()\n",
        "\n",
        "model.add(Conv2D(filters=32, kernel_size=(3, 3), input_shape=(320, 320, 3), activation='relu'))\n",
        "model.add(BatchNormalization())\n",
        "model.add(Conv2D(filters=32, kernel_size=(3, 3), input_shape=(320, 320, 3), activation='relu'))\n",
        "model.add(BatchNormalization())\n",
        "model.add(MaxPool2D(pool_size=(2, 2)))\n",
        "\n",
        "model.add(Conv2D(filters=64, kernel_size=(3, 3), activation='relu'))\n",
        "model.add(BatchNormalization())\n",
        "model.add(Conv2D(filters=64, kernel_size=(3, 3), activation='relu'))\n",
        "model.add(BatchNormalization())\n",
        "model.add(MaxPool2D(pool_size=(2, 2)))\n",
        "\n",
        "model.add(Conv2D(filters=128, kernel_size=(3, 3), activation='relu'))\n",
        "model.add(BatchNormalization())\n",
        "model.add(Conv2D(filters=128, kernel_size=(3, 3), activation='relu'))\n",
        "model.add(BatchNormalization())\n",
        "model.add(MaxPool2D(pool_size=(2, 2)))\n",
        "\n",
        "model.add(Flatten())\n",
        "model.add(Dense(128, activation='relu'))\n",
        "model.add(Dropout(0.2))\n",
        "\n",
        "model.add(Dense(1, activation='sigmoid'))"
      ],
      "execution_count": null,
      "outputs": []
    },
    {
      "cell_type": "code",
      "metadata": {
        "id": "y7D54mzF_wkS"
      },
      "source": [
        "model.compile(loss='binary_crossentropy', \n",
        "              optimizer='adam', \n",
        "              metrics=['accuracy'])"
      ],
      "execution_count": null,
      "outputs": []
    },
    {
      "cell_type": "code",
      "metadata": {
        "id": "SZJsMcHh_1MQ"
      },
      "source": [
        "model.summary()"
      ],
      "execution_count": null,
      "outputs": []
    },
    {
      "cell_type": "code",
      "metadata": {
        "id": "qDpyqbNr_3XH"
      },
      "source": [
        "CNN = model.fit(\n",
        "    train, \n",
        "    epochs=10,\n",
        "    validation_data=validation, \n",
        "    class_weight=class_weight,\n",
        "    steps_per_epoch=100,\n",
        "    validation_steps=12,\n",
        ")"
      ],
      "execution_count": null,
      "outputs": []
    },
    {
      "cell_type": "markdown",
      "metadata": {
        "id": "6FAbbk4mB_Xl"
      },
      "source": [
        "\n",
        "## Evaluation"
      ]
    },
    {
      "cell_type": "code",
      "metadata": {
        "id": "8Fpi381PAFge"
      },
      "source": [
        "plt.figure(figsize=(12, 8))\n",
        "\n",
        "plt.subplot(2, 2, 1)\n",
        "plt.plot(CNN.history['loss'], label='Loss')\n",
        "plt.plot(CNN.history['accuracy'], label='Val_Accuracy')\n",
        "plt.legend()\n",
        "plt.title('Accuracy and Loss Evolution')\n",
        "\n"
      ],
      "execution_count": null,
      "outputs": []
    },
    {
      "cell_type": "code",
      "metadata": {
        "id": "QrNMIC89B2b_"
      },
      "source": [
        "predicted_vals = model.predict(test, steps=len(test))"
      ],
      "execution_count": null,
      "outputs": []
    },
    {
      "cell_type": "code",
      "metadata": {
        "id": "DHkjH8S5DQ-Z"
      },
      "source": [
        "print(confusion_matrix(test.classes, predicted_vals > 0.5))\n",
        "pd.DataFrame(classification_report(test.classes, predicted_vals > 0.5, output_dict=True))"
      ],
      "execution_count": null,
      "outputs": []
    },
    {
      "cell_type": "code",
      "metadata": {
        "id": "-4v9mvIIISk_"
      },
      "source": [
        "print(confusion_matrix(test.classes, predicted_vals > 0.7))\n",
        "pd.DataFrame(classification_report(test.classes, predicted_vals > 0.7, output_dict=True))"
      ],
      "execution_count": null,
      "outputs": []
    },
    {
      "cell_type": "code",
      "metadata": {
        "id": "bOn8z8o5Yq10"
      },
      "source": [
        "evaluationCNN = model.evaluate(test)\n",
        "evaluationCNNT = model.evaluate(train)\n"
      ],
      "execution_count": null,
      "outputs": []
    },
    {
      "cell_type": "code",
      "metadata": {
        "id": "-cQpodUqvxCo"
      },
      "source": [
        "evaluationCNN[1]"
      ],
      "execution_count": null,
      "outputs": []
    },
    {
      "cell_type": "code",
      "metadata": {
        "id": "ZqiNS07COX7v"
      },
      "source": [
        "evaluationCNNT[1]"
      ],
      "execution_count": null,
      "outputs": []
    },
    {
      "cell_type": "markdown",
      "metadata": {
        "id": "y0avT1Qd0IAM"
      },
      "source": [
        "Our model is ready! Now we will save it to Google Drive. For that, first we will mount the drive"
      ]
    },
    {
      "cell_type": "markdown",
      "metadata": {
        "id": "V4pXWTCtNUAd"
      },
      "source": [
        "# Transfer learning"
      ]
    },
    {
      "cell_type": "markdown",
      "metadata": {
        "id": "iD6g_aP2OQL9"
      },
      "source": [
        "## Introduction"
      ]
    },
    {
      "cell_type": "markdown",
      "metadata": {
        "id": "23NnRQQkOUFH"
      },
      "source": [
        "Transfer learning consists of taking features learned on one problem, and leveraging them on a new, similar problem.\n",
        "\n",
        "Transfer learning is usually done for tasks where your dataset has too little data to train a full-scale model from scratch.\n",
        "\n",
        "The most common incarnation of transfer learning in the context of deep learning is the following workflow:\n",
        "\n",
        "\n",
        "1.   Take layers from a previously trained model.\n",
        "2.   Freeze them, so as to avoid destroying any of the information they contain during future training rounds.\n",
        "3.   Add some new, trainable layers on top of the frozen layers. They will learn to turn the old features into predictions on a new dataset.\n",
        "4.   rain the new layers on your dataset.\n",
        "A last, optional step, is fine-tuning, which consists of unfreezing the entire model you obtained above (or part of it), and re-training it on the new data with a very low learning rate. This can potentially achieve meaningful improvements, by incrementally adapting the pretrained features to the new data.\n",
        "\n"
      ]
    },
    {
      "cell_type": "markdown",
      "metadata": {
        "id": "r6I6Nxd3O6Of"
      },
      "source": [
        "## VGG16"
      ]
    },
    {
      "cell_type": "code",
      "metadata": {
        "id": "28FRy3KjVLDk"
      },
      "source": [
        "from keras.layers import Dense, GlobalAveragePooling2D\n",
        "from keras.models import Model"
      ],
      "execution_count": null,
      "outputs": []
    },
    {
      "cell_type": "code",
      "metadata": {
        "id": "9mPBWsxNOTNc"
      },
      "source": [
        "from keras.applications.vgg16 import VGG16\n",
        "taille=(320, 320, 3)\n",
        "model_vgg16 = VGG16(input_shape=taille, include_top=False, weights='imagenet')"
      ],
      "execution_count": null,
      "outputs": []
    },
    {
      "cell_type": "code",
      "metadata": {
        "id": "3b2Y58lAP2kc"
      },
      "source": [
        "model_vgg16.summary()"
      ],
      "execution_count": null,
      "outputs": []
    },
    {
      "cell_type": "code",
      "metadata": {
        "id": "u8WGH9k_Q4jg"
      },
      "source": [
        "# Freeze the base_model\n",
        "model_vgg16.trainable = False"
      ],
      "execution_count": null,
      "outputs": []
    },
    {
      "cell_type": "code",
      "metadata": {
        "id": "FgsOiAzsRR29"
      },
      "source": [
        "layers = model_vgg16.layers\n",
        "print(f\"The model has {len(layers)} layers\")"
      ],
      "execution_count": null,
      "outputs": []
    },
    {
      "cell_type": "code",
      "metadata": {
        "id": "S0PtI54KRIwz"
      },
      "source": [
        "model_vgg16.output"
      ],
      "execution_count": null,
      "outputs": []
    },
    {
      "cell_type": "code",
      "metadata": {
        "id": "ECYIfonDRhbr"
      },
      "source": [
        "\n",
        "x = model_vgg16.output\n",
        "x = GlobalAveragePooling2D()(x)\n",
        "x = Dense(512, activation='relu')(x)\n",
        "x = Dense(256, activation='relu')(x)\n",
        "# Add a final sigmoid layer for classification\n",
        "outputs =Dense(1, activation=\"sigmoid\")(x)\n",
        "\n"
      ],
      "execution_count": null,
      "outputs": []
    },
    {
      "cell_type": "code",
      "metadata": {
        "id": "gqDXasLkq-XN"
      },
      "source": [
        "model_vgg16.summary()"
      ],
      "execution_count": null,
      "outputs": []
    },
    {
      "cell_type": "code",
      "metadata": {
        "id": "JIx-6aBwUXxD"
      },
      "source": [
        "model = Model(inputs=model_vgg16.input, outputs=outputs)\n",
        "model.compile(loss='binary_crossentropy', \n",
        "              optimizer='adam', \n",
        "              metrics=['accuracy'])\n"
      ],
      "execution_count": null,
      "outputs": []
    },
    {
      "cell_type": "code",
      "metadata": {
        "id": "Y3u_Di4NWUqE"
      },
      "source": [
        "vgg16 = model.fit(train,epochs=12,validation_data=validation,class_weight=class_weight,\n",
        "    steps_per_epoch=100,validation_steps=25,\n",
        ")"
      ],
      "execution_count": null,
      "outputs": []
    },
    {
      "cell_type": "code",
      "metadata": {
        "id": "N_qswUv9YAwk"
      },
      "source": [
        "plt.figure(figsize=(12, 8))\n",
        "\n",
        "plt.subplot(2, 2, 1)\n",
        "plt.plot(vgg16.history['loss'], label='Loss')\n",
        "plt.plot(vgg16.history['val_loss'], label='Val_Loss')\n",
        "plt.legend()\n",
        "plt.title('Loss Evolution')\n",
        "\n",
        "plt.subplot(2, 2, 2)\n",
        "plt.plot(vgg16.history['accuracy'], label='Accuracy')\n",
        "plt.plot(vgg16.history['val_accuracy'], label='Val_Accuracy')\n",
        "plt.legend()\n",
        "plt.title('Accuracy Evolution')"
      ],
      "execution_count": null,
      "outputs": []
    },
    {
      "cell_type": "code",
      "metadata": {
        "id": "YoILEX63YOED"
      },
      "source": [
        "evaluationVGG16 = model.evaluate(test)\n",
        "print(f\"Test Accuracy: {evaluationVGG16[1] * 100:.2f}%\")\n",
        "\n",
        "evaluationVGG16T = model.evaluate(train)\n",
        "print(f\"Train Accuracy: {evaluationVGG16[1] * 100:.2f}%\")"
      ],
      "execution_count": null,
      "outputs": []
    },
    {
      "cell_type": "code",
      "metadata": {
        "id": "u0r5TreHtOtI"
      },
      "source": [
        "evaluationVGG16[1]"
      ],
      "execution_count": null,
      "outputs": []
    },
    {
      "cell_type": "code",
      "metadata": {
        "id": "b5DzHFNqnifJ"
      },
      "source": [
        "evaluationVGG16T[1]"
      ],
      "execution_count": null,
      "outputs": []
    },
    {
      "cell_type": "markdown",
      "metadata": {
        "id": "p9yAcVqx1aXb"
      },
      "source": [
        "## VGG19"
      ]
    },
    {
      "cell_type": "code",
      "metadata": {
        "id": "1hETwO_y1cKh"
      },
      "source": [
        "from keras.applications.vgg19 import VGG19\n",
        "\n",
        "taille=(320, 320, 3)\n",
        "model_vgg19 = VGG19(input_shape=taille, include_top=False, weights='imagenet')"
      ],
      "execution_count": null,
      "outputs": []
    },
    {
      "cell_type": "code",
      "metadata": {
        "id": "v5SCCai11vBp"
      },
      "source": [
        "model_vgg19.summary()"
      ],
      "execution_count": null,
      "outputs": []
    },
    {
      "cell_type": "code",
      "metadata": {
        "id": "TD7ns7_h12FQ"
      },
      "source": [
        "# Freeze the base_model\n",
        "model_vgg19.trainable = False\n",
        "layers = model_vgg19.layers\n",
        "print(f\"The model has {len(layers)} layers\")"
      ],
      "execution_count": null,
      "outputs": []
    },
    {
      "cell_type": "code",
      "metadata": {
        "id": "S-ZY36dl1_aE"
      },
      "source": [
        "model_vgg19.output"
      ],
      "execution_count": null,
      "outputs": []
    },
    {
      "cell_type": "code",
      "metadata": {
        "id": "4cJ6-pa52E6x"
      },
      "source": [
        "x = model_vgg19.output\n",
        "x = GlobalAveragePooling2D()(x)\n",
        "x = Dense(512, activation='relu')(x)\n",
        "x = Dense(256, activation='relu')(x)\n",
        "# Add a final sigmoid layer for classification\n",
        "outputs =Dense(1, activation=\"sigmoid\")(x)"
      ],
      "execution_count": null,
      "outputs": []
    },
    {
      "cell_type": "code",
      "metadata": {
        "id": "AcxJSOei2N9-"
      },
      "source": [
        "model = Model(inputs=model_vgg19.input, outputs=outputs)\n",
        "model.compile(loss='binary_crossentropy', \n",
        "              optimizer='adam', \n",
        "              metrics=['accuracy'])\n"
      ],
      "execution_count": null,
      "outputs": []
    },
    {
      "cell_type": "code",
      "metadata": {
        "id": "_6iM3XaC2bPA"
      },
      "source": [
        "vgg19 = model.fit(train,epochs=12,validation_data=validation,class_weight=class_weight,\n",
        "    steps_per_epoch=100,validation_steps=25,\n",
        ")"
      ],
      "execution_count": null,
      "outputs": []
    },
    {
      "cell_type": "code",
      "metadata": {
        "id": "1ZJ24gfv3qwX"
      },
      "source": [
        "plt.figure(figsize=(12, 8))\n",
        "\n",
        "plt.subplot(2, 2, 1)\n",
        "plt.plot(vgg19.history['loss'], label='Loss')\n",
        "plt.plot(vgg19.history['val_loss'], label='Val_Loss')\n",
        "plt.legend()\n",
        "plt.title('Loss Evolution')\n",
        "\n",
        "plt.subplot(2, 2, 2)\n",
        "plt.plot(vgg19.history['accuracy'], label='Accuracy')\n",
        "plt.plot(vgg19.history['val_accuracy'], label='Val_Accuracy')\n",
        "plt.legend()\n",
        "plt.title('Accuracy Evolution')\n"
      ],
      "execution_count": null,
      "outputs": []
    },
    {
      "cell_type": "code",
      "metadata": {
        "id": "WSQM4lzK57j7"
      },
      "source": [
        "evaluationVGG19 = model.evaluate(test)\n",
        "print(f\"Test Accuracy: {evaluationVGG19[1] * 100:.2f}%\")\n",
        "\n",
        "evaluationVGG19T = model.evaluate(train)\n",
        "print(f\"Train Accuracy: {evaluationVGG19[1] * 100:.2f}%\")"
      ],
      "execution_count": null,
      "outputs": []
    },
    {
      "cell_type": "code",
      "metadata": {
        "id": "K6HwMT9xDObA"
      },
      "source": [
        "evaluationVGG19[1]"
      ],
      "execution_count": null,
      "outputs": []
    },
    {
      "cell_type": "code",
      "metadata": {
        "id": "JxKz5zfOwAHf"
      },
      "source": [
        "evaluationVGG19T[1]"
      ],
      "execution_count": null,
      "outputs": []
    },
    {
      "cell_type": "markdown",
      "metadata": {
        "id": "i_AtDdA1XRw2"
      },
      "source": [
        "## InceptionV3"
      ]
    },
    {
      "cell_type": "code",
      "metadata": {
        "id": "vS10A4qIXcN5"
      },
      "source": [
        "from keras.applications.inception_v3 import InceptionV3, preprocess_input\n",
        "taille=(320, 320, 3)\n",
        "model_v3 =  InceptionV3(input_shape=taille, include_top=False, weights='imagenet')"
      ],
      "execution_count": null,
      "outputs": []
    },
    {
      "cell_type": "code",
      "metadata": {
        "id": "h-RNFOjBk9RE"
      },
      "source": [
        "# Freeze the base_model\n",
        "model_v3.trainable = False\n",
        "layers = model_v3.layers\n",
        "print(f\"The model has {len(layers)} layers\")"
      ],
      "execution_count": null,
      "outputs": []
    },
    {
      "cell_type": "code",
      "metadata": {
        "id": "7ogMmclwk5XF"
      },
      "source": [
        "model_v3.summary()"
      ],
      "execution_count": null,
      "outputs": []
    },
    {
      "cell_type": "code",
      "metadata": {
        "id": "fN-ovWSW7wv5"
      },
      "source": [
        "model_v3.output"
      ],
      "execution_count": null,
      "outputs": []
    },
    {
      "cell_type": "code",
      "metadata": {
        "id": "tf4Fd3dt8DG5"
      },
      "source": [
        "x = model_v3.output\n",
        "x = GlobalAveragePooling2D()(x)\n",
        "x = Dense(512, activation='relu')(x)\n",
        "x = Dense(256, activation='relu')(x)\n",
        "# Add a final sigmoid layer for classification\n",
        "outputs =Dense(1, activation=\"sigmoid\")(x)"
      ],
      "execution_count": null,
      "outputs": []
    },
    {
      "cell_type": "code",
      "metadata": {
        "id": "9vudutXnlBje"
      },
      "source": [
        "model = Model(inputs=model_v3.input, outputs=outputs)\n",
        "model.compile(loss='binary_crossentropy', \n",
        "              optimizer='adam', \n",
        "              metrics=['accuracy'])"
      ],
      "execution_count": null,
      "outputs": []
    },
    {
      "cell_type": "code",
      "metadata": {
        "id": "CQ13e47zlELm"
      },
      "source": [
        "V3 = model.fit(train,epochs=12,validation_data=validation,class_weight=class_weight,\n",
        "    steps_per_epoch=100,validation_steps=25,\n",
        ")"
      ],
      "execution_count": null,
      "outputs": []
    },
    {
      "cell_type": "code",
      "metadata": {
        "id": "aiIw1kQOljWv"
      },
      "source": [
        "plt.figure(figsize=(12, 8))\n",
        "\n",
        "plt.subplot(2, 2, 1)\n",
        "plt.plot(V3.history['loss'], label='Loss')\n",
        "plt.plot(V3.history['val_loss'], label='Val_Loss')\n",
        "plt.legend()\n",
        "plt.title('Loss Evolution')\n",
        "\n",
        "plt.subplot(2, 2, 2)\n",
        "plt.plot(V3.history['accuracy'], label='Accuracy')\n",
        "plt.plot(V3.history['val_accuracy'], label='Val_Accuracy')\n",
        "plt.legend()\n",
        "plt.title('Accuracy Evolution')"
      ],
      "execution_count": null,
      "outputs": []
    },
    {
      "cell_type": "code",
      "metadata": {
        "id": "Dr-oYYvhpKo2"
      },
      "source": [
        "evaluationV3 = model.evaluate(test)\n",
        "print(f\"Test Accuracy: {evaluationV3[1] * 100:.2f}%\")\n",
        "\n",
        "evaluationV3T = model.evaluate(train)\n",
        "print(f\"Train Accuracy: {evaluationV3[1] * 100:.2f}%\")"
      ],
      "execution_count": null,
      "outputs": []
    },
    {
      "cell_type": "code",
      "metadata": {
        "id": "P2XIzpE0NVGY"
      },
      "source": [
        "evaluationV3[1]"
      ],
      "execution_count": null,
      "outputs": []
    },
    {
      "cell_type": "code",
      "metadata": {
        "id": "H3c2QnEh001P"
      },
      "source": [
        "evaluationV3T[1]"
      ],
      "execution_count": null,
      "outputs": []
    },
    {
      "cell_type": "markdown",
      "metadata": {
        "id": "XK7ptuWNClB_"
      },
      "source": [
        "## DenseNet"
      ]
    },
    {
      "cell_type": "code",
      "metadata": {
        "id": "i-Q5TWWGClVa"
      },
      "source": [
        "from keras.applications import DenseNet121\n"
      ],
      "execution_count": null,
      "outputs": []
    },
    {
      "cell_type": "code",
      "metadata": {
        "id": "iHmxewKOC2zz"
      },
      "source": [
        "model_DenseNet121= DenseNet121(input_shape=taille, include_top=False, weights='imagenet')"
      ],
      "execution_count": null,
      "outputs": []
    },
    {
      "cell_type": "code",
      "metadata": {
        "id": "qUNJEwoeC3IE"
      },
      "source": [
        "# Freeze the base_model\n",
        "model_DenseNet121.trainable = False\n",
        "layers = model_DenseNet121.layers\n",
        "print(f\"The model has {len(layers)} layers\")"
      ],
      "execution_count": null,
      "outputs": []
    },
    {
      "cell_type": "code",
      "metadata": {
        "id": "LYNmtWhyEG-0"
      },
      "source": [
        "model_DenseNet121.summary()"
      ],
      "execution_count": null,
      "outputs": []
    },
    {
      "cell_type": "code",
      "metadata": {
        "id": "TKISogZ8EOB8"
      },
      "source": [
        "model_DenseNet121.output"
      ],
      "execution_count": null,
      "outputs": []
    },
    {
      "cell_type": "code",
      "metadata": {
        "id": "VbzHu4k2ETPK"
      },
      "source": [
        "x = model_DenseNet121.output\n",
        "x = GlobalAveragePooling2D()(x)\n",
        "x = Dense(512, activation='relu')(x)\n",
        "x = Dense(256, activation='relu')(x)\n",
        "# Add a final sigmoid layer for classification\n",
        "outputs =Dense(1, activation=\"sigmoid\")(x)"
      ],
      "execution_count": null,
      "outputs": []
    },
    {
      "cell_type": "code",
      "metadata": {
        "id": "J7dd0gkIEWIj"
      },
      "source": [
        "model = Model(inputs=model_DenseNet121.input, outputs=outputs)\n",
        "model.compile(loss='binary_crossentropy', \n",
        "              optimizer='adam', \n",
        "              metrics=['accuracy'])"
      ],
      "execution_count": null,
      "outputs": []
    },
    {
      "cell_type": "code",
      "metadata": {
        "id": "IWXM4YuAEcA7"
      },
      "source": [
        "DenseNet121 = model.fit(train,epochs=12,validation_data=validation,class_weight=class_weight,\n",
        "    steps_per_epoch=100,validation_steps=25,\n",
        ")"
      ],
      "execution_count": null,
      "outputs": []
    },
    {
      "cell_type": "code",
      "metadata": {
        "id": "DVkKn8j4Emxa"
      },
      "source": [
        "plt.figure(figsize=(12, 8))\n",
        "\n",
        "plt.subplot(2, 2, 1)\n",
        "plt.plot(DenseNet121.history['loss'], label='Loss')\n",
        "plt.plot(DenseNet121.history['val_loss'], label='Val_Loss')\n",
        "plt.legend()\n",
        "plt.title('Loss Evolution')\n",
        "\n",
        "plt.subplot(2, 2, 2)\n",
        "plt.plot(DenseNet121.history['accuracy'], label='Accuracy')\n",
        "plt.plot(DenseNet121.history['val_accuracy'], label='Val_Accuracy')\n",
        "plt.legend()\n",
        "plt.title('Accuracy Evolution')"
      ],
      "execution_count": null,
      "outputs": []
    },
    {
      "cell_type": "code",
      "metadata": {
        "id": "x4zWCngxEr0M"
      },
      "source": [
        "evaluationDenseNet121 = model.evaluate(test)\n",
        "print(f\"Test Accuracy: {evaluationDenseNet121[1] * 100:.2f}%\")\n",
        "\n",
        "evaluationDenseNet121T = model.evaluate(train)\n",
        "print(f\"Train Accuracy: {evaluationDenseNet121[1] * 100:.2f}%\")"
      ],
      "execution_count": null,
      "outputs": []
    },
    {
      "cell_type": "code",
      "metadata": {
        "id": "sjv_y1AuQBek"
      },
      "source": [
        "evaluationDenseNet121[1]"
      ],
      "execution_count": null,
      "outputs": []
    },
    {
      "cell_type": "code",
      "metadata": {
        "id": "WrGhAJti7oxl"
      },
      "source": [
        "evaluationDenseNet121T[1]"
      ],
      "execution_count": null,
      "outputs": []
    },
    {
      "cell_type": "markdown",
      "metadata": {
        "id": "78WF6vvh6-6p"
      },
      "source": [
        "## ResNet"
      ]
    },
    {
      "cell_type": "code",
      "metadata": {
        "id": "sCVqrr0V7AVo"
      },
      "source": [
        "from keras.applications.inception_resnet_v2 import InceptionResNetV2"
      ],
      "execution_count": null,
      "outputs": []
    },
    {
      "cell_type": "code",
      "metadata": {
        "id": "ZfIikcAs7DJB"
      },
      "source": [
        "model_ResNet= InceptionResNetV2(input_shape=taille, include_top=False, weights='imagenet')"
      ],
      "execution_count": null,
      "outputs": []
    },
    {
      "cell_type": "code",
      "metadata": {
        "id": "cgVqcGAX7PG5"
      },
      "source": [
        "# Freeze the base_model\n",
        "model_ResNet.trainable = False\n",
        "layers = model_ResNet.layers\n",
        "print(f\"The model has {len(layers)} layers\")"
      ],
      "execution_count": null,
      "outputs": []
    },
    {
      "cell_type": "code",
      "metadata": {
        "id": "qfzB5Keg7QLj"
      },
      "source": [
        "model_ResNet.summary()"
      ],
      "execution_count": null,
      "outputs": []
    },
    {
      "cell_type": "code",
      "metadata": {
        "id": "Nrp2zV41-Ka8"
      },
      "source": [
        "model_ResNet.output"
      ],
      "execution_count": null,
      "outputs": []
    },
    {
      "cell_type": "code",
      "metadata": {
        "id": "eOA_3kHZ-Qjh"
      },
      "source": [
        "x = model_ResNet.output\n",
        "x = GlobalAveragePooling2D()(x)\n",
        "x = Dense(512, activation='relu')(x)\n",
        "x = Dense(256, activation='relu')(x)\n",
        "x = Dense(128, activation='relu')(x)\n",
        "x = Dense(64, activation='relu')(x)\n",
        "# Add a final sigmoid layer for classification\n",
        "outputs =Dense(1, activation=\"sigmoid\")(x)"
      ],
      "execution_count": null,
      "outputs": []
    },
    {
      "cell_type": "code",
      "metadata": {
        "id": "JgCCjGfo7WOo"
      },
      "source": [
        "model = Model(inputs=model_ResNet.input, outputs=outputs)\n",
        "model.compile(loss='binary_crossentropy', \n",
        "              optimizer='adam', \n",
        "              metrics=['accuracy'])"
      ],
      "execution_count": null,
      "outputs": []
    },
    {
      "cell_type": "code",
      "metadata": {
        "id": "xdXuGczu99aR"
      },
      "source": [
        "ResNet = model.fit(train,epochs=12,validation_data=validation,class_weight=class_weight,\n",
        "    steps_per_epoch=100,validation_steps=25,\n",
        ")"
      ],
      "execution_count": null,
      "outputs": []
    },
    {
      "cell_type": "code",
      "metadata": {
        "id": "uqiSWySM_Oti"
      },
      "source": [
        "plt.figure(figsize=(12, 8))\n",
        "\n",
        "plt.subplot(2, 2, 1)\n",
        "plt.plot(ResNet.history['loss'], label='Loss')\n",
        "plt.plot(ResNet.history['val_loss'], label='Val_Loss')\n",
        "plt.legend()\n",
        "plt.title('Loss Evolution')\n",
        "\n",
        "plt.subplot(2, 2, 2)\n",
        "plt.plot(ResNet.history['accuracy'], label='Accuracy')\n",
        "plt.plot(ResNet.history['val_accuracy'], label='Val_Accuracy')\n",
        "plt.legend()\n",
        "plt.title('Accuracy Evolution')"
      ],
      "execution_count": null,
      "outputs": []
    },
    {
      "cell_type": "code",
      "metadata": {
        "id": "xfgdtJct_Zdd"
      },
      "source": [
        "evaluationResNet = model.evaluate(test)\n",
        "print(f\"Test Accuracy: {evaluationResNet[1] * 100:.2f}%\")\n",
        "\n",
        "evaluationResNetT = model.evaluate(train)\n",
        "print(f\"Train Accuracy: {evaluationResNet[1] * 100:.2f}%\")"
      ],
      "execution_count": null,
      "outputs": []
    },
    {
      "cell_type": "code",
      "metadata": {
        "id": "nluXZuayY831"
      },
      "source": [
        "evaluationResNet[1]"
      ],
      "execution_count": null,
      "outputs": []
    },
    {
      "cell_type": "code",
      "metadata": {
        "id": "YvuR7MGn-uHi"
      },
      "source": [
        "evaluationResNetT[1]"
      ],
      "execution_count": null,
      "outputs": []
    },
    {
      "cell_type": "markdown",
      "metadata": {
        "id": "U-8ZIHJbHujn"
      },
      "source": [
        "## Xception"
      ]
    },
    {
      "cell_type": "code",
      "metadata": {
        "id": "bNjcC0nwHu6W"
      },
      "source": [
        "from keras.applications import Xception"
      ],
      "execution_count": null,
      "outputs": []
    },
    {
      "cell_type": "code",
      "metadata": {
        "id": "RlhuzFdyIAdS"
      },
      "source": [
        "model_Xception= Xception(input_shape=taille, include_top=False, weights='imagenet')"
      ],
      "execution_count": null,
      "outputs": []
    },
    {
      "cell_type": "code",
      "metadata": {
        "id": "64B15C15IEwV"
      },
      "source": [
        "# Freeze the base_model\n",
        "model_Xception.trainable = False\n",
        "layers = model_Xception.layers\n",
        "print(f\"The model has {len(layers)} layers\")"
      ],
      "execution_count": null,
      "outputs": []
    },
    {
      "cell_type": "code",
      "metadata": {
        "id": "gBUzDmq0IO2D"
      },
      "source": [
        "model_Xception.summary()"
      ],
      "execution_count": null,
      "outputs": []
    },
    {
      "cell_type": "code",
      "metadata": {
        "id": "4eaj4qJyIRw9"
      },
      "source": [
        "model_Xception.output"
      ],
      "execution_count": null,
      "outputs": []
    },
    {
      "cell_type": "code",
      "metadata": {
        "id": "sIiHxWZYIY2T"
      },
      "source": [
        "x = model_Xception.output\n",
        "x = GlobalAveragePooling2D()(x)\n",
        "x = Dense(512, activation='relu')(x)\n",
        "x = Dense(256, activation='relu')(x)\n",
        "x = Dense(128, activation='relu')(x)\n",
        "x = Dense(64, activation='relu')(x)\n",
        "x = Dense(32, activation='relu')(x)\n",
        "# Add a final sigmoid layer for classification\n",
        "outputs =Dense(1, activation=\"sigmoid\")(x)"
      ],
      "execution_count": null,
      "outputs": []
    },
    {
      "cell_type": "code",
      "metadata": {
        "id": "DzvEkhyXIfSj"
      },
      "source": [
        "model = Model(inputs=model_Xception.input, outputs=outputs)\n",
        "model.compile(loss='binary_crossentropy', \n",
        "              optimizer='adam', \n",
        "              metrics=['accuracy'])"
      ],
      "execution_count": null,
      "outputs": []
    },
    {
      "cell_type": "code",
      "metadata": {
        "id": "YZ4aqpg5Il67"
      },
      "source": [
        "Xception = model.fit(train,epochs=12,validation_data=validation,class_weight=class_weight,\n",
        "    steps_per_epoch=100,validation_steps=25,\n",
        ")"
      ],
      "execution_count": null,
      "outputs": []
    },
    {
      "cell_type": "code",
      "metadata": {
        "id": "ddw528KlIr0P"
      },
      "source": [
        "plt.figure(figsize=(12, 8))\n",
        "\n",
        "plt.subplot(2, 2, 1)\n",
        "plt.plot(Xception.history['loss'], label='Loss')\n",
        "plt.plot(Xception.history['val_loss'], label='Val_Loss')\n",
        "plt.legend()\n",
        "plt.title('Loss Evolution')\n",
        "\n",
        "plt.subplot(2, 2, 2)\n",
        "plt.plot(Xception.history['accuracy'], label='Accuracy')\n",
        "plt.plot(Xception.history['val_accuracy'], label='Val_Accuracy')\n",
        "plt.legend()\n",
        "plt.title('Accuracy Evolution')"
      ],
      "execution_count": null,
      "outputs": []
    },
    {
      "cell_type": "code",
      "metadata": {
        "id": "yEHsAN7aIzUu"
      },
      "source": [
        "evaluationXception = model.evaluate(test)\n",
        "print(f\"Test Accuracy: {evaluationXception[1] * 100:.2f}%\")\n",
        "\n",
        "evaluationXceptionT = model.evaluate(train)\n",
        "print(f\"Train Accuracy: {evaluationXception[1] * 100:.2f}%\")"
      ],
      "execution_count": null,
      "outputs": []
    },
    {
      "cell_type": "code",
      "metadata": {
        "id": "AWCZHAsilzG7"
      },
      "source": [
        "evaluationXception[1]"
      ],
      "execution_count": null,
      "outputs": []
    },
    {
      "cell_type": "code",
      "metadata": {
        "id": "VC2LECUe-4-r"
      },
      "source": [
        "evaluationXceptionT[1]"
      ],
      "execution_count": null,
      "outputs": []
    },
    {
      "cell_type": "code",
      "metadata": {
        "id": "RYhuKG8fHvJ-"
      },
      "source": [
        "federatedT = 0.9196702241897583"
      ],
      "execution_count": null,
      "outputs": []
    },
    {
      "cell_type": "code",
      "metadata": {
        "id": "gFvgWVu91Kjk"
      },
      "source": [
        "federated = 0.8028846383094788"
      ],
      "execution_count": null,
      "outputs": []
    },
    {
      "cell_type": "markdown",
      "metadata": {
        "id": "oEj6SmduNm0i"
      },
      "source": [
        "# benchmarking"
      ]
    },
    {
      "cell_type": "code",
      "metadata": {
        "id": "i0qPRJmqOJvC"
      },
      "source": [
        "\n",
        "colors = [\"purple\", \"green\", \"orange\", \"magenta\",\"#CFC60E\",\"#0FBBAE\",\"red\",\"#CFC60E\"]\n",
        "X=['CNN' ,'VGG16','VGG19','InceptionV3','ResNet','DenseNet','Xception','federated']\n",
        "Y=[evaluationCNNT[1],evaluationVGG16T[1],evaluationVGG19T[1],evaluationV3T[1],evaluationResNetT[1],evaluationDenseNet121T[1],evaluationXceptionT[1],federatedT]\n",
        "sns.set_style(\"whitegrid\")\n",
        "plt.figure(figsize=(16,8))\n",
        "plt.yticks(np.arange(0,100,10))\n",
        "plt.ylabel(\"Precision %\")\n",
        "plt.xlabel(\"Algorithms DL\")\n",
        "plt.title(\"accuracy benchmark \")\n",
        "g=sns.barplot(X, Y, palette=colors)\n",
        "for i in range(len(Y)):\n",
        "    g.text(i, Y[i],Y[i],color='black', ha=\"center\")\n",
        "plt.show()"
      ],
      "execution_count": null,
      "outputs": []
    },
    {
      "cell_type": "code",
      "metadata": {
        "id": "LtImuXPbaP0T"
      },
      "source": [
        "\n",
        "colors = [\"purple\", \"green\", \"orange\", \"magenta\",\"#CFC60E\",\"#0FBBAE\",\"red\",\"#CFC60E\"]\n",
        "X=['CNN' ,'VGG16','VGG19','InceptionV3','ResNet','DenseNet','Xception','federated']\n",
        "Y=[evaluationCNN[1],evaluationVGG16[1],evaluationVGG19[1],evaluationV3[1],evaluationResNet[1],evaluationDenseNet121[1],evaluationXception[1],federated]\n",
        "sns.set_style(\"whitegrid\")\n",
        "plt.figure(figsize=(16,8))\n",
        "plt.yticks(np.arange(0,100,10))\n",
        "plt.ylabel(\"Precision %\")\n",
        "plt.xlabel(\"Algorithms DL\")\n",
        "plt.title(\"accuracy benchmark \")\n",
        "g=sns.barplot(X, Y, palette=colors)\n",
        "for i in range(len(Y)):\n",
        "    g.text(i, Y[i],Y[i],color='black', ha=\"center\")\n",
        "plt.show()"
      ],
      "execution_count": null,
      "outputs": []
    },
    {
      "cell_type": "code",
      "metadata": {
        "id": "9HNV6H63ceDu"
      },
      "source": [
        "plt.figure(figsize=(12, 8))\n",
        "\n",
        "plt.subplot(2, 2, 1)\n",
        "\n",
        "plt.plot(CNN.history['loss'], label='Val_LossCNN')\n",
        "plt.plot(vgg16.history['loss'], label='Val_Lossvgg16')\n",
        "plt.plot(vgg19.history['loss'], label='Val_Lossvgg19')\n",
        "plt.plot(V3.history['loss'], label='Val_LossV3')\n",
        "plt.plot(ResNet.history['loss'], label='Val_LossResNet')\n",
        "plt.plot(DenseNet121.history['loss'], label='Val_LossDenseNet121')\n",
        "plt.plot(Xception.history['loss'], label='Val_LossXception')\n",
        "plt.legend()\n",
        "plt.title('Loss Evolution')\n",
        "\n",
        "plt.subplot(2, 2, 2)\n",
        "plt.plot(CNN.history['accuracy'], label='accuracyCNN')\n",
        "plt.plot(vgg16.history['accuracy'], label='accuracyvgg16')\n",
        "plt.plot(vgg19.history['accuracy'], label='accuracyvgg19')\n",
        "plt.plot(V3.history['accuracy'], label='accuracyV3')\n",
        "plt.plot(ResNet.history['accuracy'], label='accuracyResNet')\n",
        "plt.plot(DenseNet121.history['accuracy'], label='accuracyDenseNet121')\n",
        "plt.plot(Xception.history['accuracy'], label='accuracyXception')\n",
        "plt.legend()\n",
        "plt.title('Accuracy Evolution')"
      ],
      "execution_count": null,
      "outputs": []
    },
    {
      "cell_type": "code",
      "metadata": {
        "id": "nOcmg3liGqTX"
      },
      "source": [
        "plt.figure(figsize=(12, 8))\n",
        "\n",
        "plt.subplot(2, 2, 1)\n",
        "\n",
        "plt.plot(CNN.history['loss'], label='Val_LossCNN')\n",
        "plt.plot(vgg16.history['loss'], label='Val_Lossvgg16')\n",
        "plt.plot(vgg19.history['loss'], label='Val_Lossvgg19')\n",
        "plt.plot(V3.history['loss'], label='Val_LossV3')\n",
        "plt.plot(ResNet.history['loss'], label='Val_LossResNet')\n",
        "plt.plot(DenseNet121.history['loss'], label='Val_LossDenseNet121')\n",
        "plt.plot(Xception.history['loss'], label='Val_LossXception')\n",
        "plt.legend()\n",
        "plt.title('Loss Evolution')\n",
        "\n",
        "plt.subplot(2, 2, 2)\n",
        "plt.plot(CNN.history['accuracy'], label='accuracyCNN')\n",
        "plt.plot(vgg16.history['accuracy'], label='accuracyvgg16')\n",
        "plt.plot(vgg19.history['accuracy'], label='accuracyvgg19')\n",
        "plt.plot(V3.history['accuracy'], label='accuracyV3')\n",
        "plt.plot(ResNet.history['accuracy'], label='accuracyResNet')\n",
        "plt.plot(DenseNet121.history['accuracy'], label='accuracyDenseNet121')\n",
        "plt.plot(Xception.history['accuracy'], label='accuracyXception')\n",
        "plt.legend()\n",
        "plt.title('Accuracy Evolution')"
      ],
      "execution_count": null,
      "outputs": []
    }
  ]
}